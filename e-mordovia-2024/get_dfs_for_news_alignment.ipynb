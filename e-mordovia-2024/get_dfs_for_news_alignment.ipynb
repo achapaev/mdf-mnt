{
 "cells": [
  {
   "cell_type": "code",
   "execution_count": 1,
   "id": "ceea8b5f-c3d8-4149-9de7-825ac542e2f3",
   "metadata": {
    "id": "ceea8b5f-c3d8-4149-9de7-825ac542e2f3"
   },
   "outputs": [],
   "source": [
    "import json\n",
    "import os\n",
    "\n",
    "import pandas as pd"
   ]
  },
  {
   "cell_type": "code",
   "execution_count": 2,
   "id": "9d9b2323-79e9-4d04-ae24-8658f38d9328",
   "metadata": {
    "id": "9d9b2323-79e9-4d04-ae24-8658f38d9328"
   },
   "outputs": [],
   "source": [
    "MDF_DIR = 'input/articles_mdf_381_out/'\n",
    "RU_DIR = 'input/articles_rus_0_1518_out/'\n",
    "MYV_DIR = 'input/articles_myv_0_405_out/'"
   ]
  },
  {
   "cell_type": "code",
   "execution_count": 3,
   "id": "9d902029-69d4-4fbf-85bc-223e60091903",
   "metadata": {
    "id": "9d902029-69d4-4fbf-85bc-223e60091903"
   },
   "outputs": [],
   "source": [
    "mdf_names = []\n",
    "\n",
    "for fn in os.listdir(MDF_DIR):\n",
    "    if not fn.endswith('.json'):\n",
    "        continue\n",
    "\n",
    "    with open(MDF_DIR + fn, 'r') as f:\n",
    "        data = json.load(f)\n",
    "\n",
    "    # del first line with news' date\n",
    "    text = '\\n'.join(data['text'].split('\\n')[1:])\n",
    "    mdf_names.append({'name': data['name'], 'text': text, 'fn': fn, 'date': data['date'], 'link': data['link']})"
   ]
  },
  {
   "cell_type": "code",
   "execution_count": 4,
   "id": "b2df040e-bd10-4f66-9646-d1f623d844a8",
   "metadata": {
    "id": "b2df040e-bd10-4f66-9646-d1f623d844a8"
   },
   "outputs": [],
   "source": [
    "mdf_names_df = pd.DataFrame(mdf_names)"
   ]
  },
  {
   "cell_type": "code",
   "execution_count": 5,
   "id": "73023345",
   "metadata": {},
   "outputs": [
    {
     "data": {
      "text/html": [
       "<div>\n",
       "<style scoped>\n",
       "    .dataframe tbody tr th:only-of-type {\n",
       "        vertical-align: middle;\n",
       "    }\n",
       "\n",
       "    .dataframe tbody tr th {\n",
       "        vertical-align: top;\n",
       "    }\n",
       "\n",
       "    .dataframe thead th {\n",
       "        text-align: right;\n",
       "    }\n",
       "</style>\n",
       "<table border=\"1\" class=\"dataframe\">\n",
       "  <thead>\n",
       "    <tr style=\"text-align: right;\">\n",
       "      <th></th>\n",
       "      <th>name</th>\n",
       "      <th>text</th>\n",
       "      <th>fn</th>\n",
       "      <th>date</th>\n",
       "      <th>link</th>\n",
       "    </tr>\n",
       "  </thead>\n",
       "  <tbody>\n",
       "    <tr>\n",
       "      <th>1924</th>\n",
       "      <td>Мордовияса ётась «Единая Россия» партиянь перв...</td>\n",
       "      <td>7 мартста «Единая Россия» Генеральнай советонь...</td>\n",
       "      <td>article_00390.json</td>\n",
       "      <td>7-03-2024</td>\n",
       "      <td>https://www.e-mordovia.ru/mkh/for-smi/all-news...</td>\n",
       "    </tr>\n",
       "    <tr>\n",
       "      <th>3091</th>\n",
       "      <td>Мордовиянь Оцюнясь корхнесь Эрьзянь лемса музе...</td>\n",
       "      <td>7 апрельста Мордовиянь Оцюнясь Артём Здунов ёт...</td>\n",
       "      <td>article_02141.json</td>\n",
       "      <td>8-04-2022</td>\n",
       "      <td>https://www.e-mordovia.ru/mkh/for-smi/all-news...</td>\n",
       "    </tr>\n",
       "    <tr>\n",
       "      <th>2379</th>\n",
       "      <td>Республикань Правительстваса ванфтольхть васен...</td>\n",
       "      <td>16 январьста ульсь Мордовия  Республикань Прав...</td>\n",
       "      <td>article_04523.json</td>\n",
       "      <td>17-01-2017</td>\n",
       "      <td>https://www.e-mordovia.ru/mkh/for-smi/all-news...</td>\n",
       "    </tr>\n",
       "    <tr>\n",
       "      <th>2088</th>\n",
       "      <td>Артём Здунов крхкаста содафтсь Технопарконь ст...</td>\n",
       "      <td>Мордовиянь Оцюнять аф лама пингс тевонзон тиен...</td>\n",
       "      <td>article_03162.json</td>\n",
       "      <td>17-12-2020</td>\n",
       "      <td>https://www.e-mordovia.ru/mkh/for-smi/all-news...</td>\n",
       "    </tr>\n",
       "    <tr>\n",
       "      <th>3191</th>\n",
       "      <td>Республикань Кудса корхтафоль Мордовияса школь...</td>\n",
       "      <td>Артём Здунов ётафтсь рабочай васедема «Просвещ...</td>\n",
       "      <td>article_02024.json</td>\n",
       "      <td>30-05-2022</td>\n",
       "      <td>https://www.e-mordovia.ru/mkh/for-smi/all-news...</td>\n",
       "    </tr>\n",
       "    <tr>\n",
       "      <th>1024</th>\n",
       "      <td>Владимир Волково примась участия «Территория б...</td>\n",
       "      <td>Мордовиянь Оцюнять аф оцю пингс тевонзон тиенд...</td>\n",
       "      <td>article_04290.json</td>\n",
       "      <td>7-09-2017</td>\n",
       "      <td>https://www.e-mordovia.ru/mkh/for-smi/all-news...</td>\n",
       "    </tr>\n",
       "    <tr>\n",
       "      <th>65</th>\n",
       "      <td>Саранскяйть кучкаса аноклави панжемс идень од сад</td>\n",
       "      <td>Мордовиять столицаса «Демография» национальнай...</td>\n",
       "      <td>article_03542.json</td>\n",
       "      <td>20-12-2019</td>\n",
       "      <td>https://www.e-mordovia.ru/mkh/for-smi/all-news...</td>\n",
       "    </tr>\n",
       "    <tr>\n",
       "      <th>4558</th>\n",
       "      <td>Артём Здунов Москуса мольфтсь корхтама веронь ...</td>\n",
       "      <td>Мордовиянь Оцюнясь Артём Здунов 5 июньцта ётаф...</td>\n",
       "      <td>article_01045.json</td>\n",
       "      <td>6-06-2023</td>\n",
       "      <td>https://www.e-mordovia.ru/mkh/for-smi/all-news...</td>\n",
       "    </tr>\n",
       "    <tr>\n",
       "      <th>2660</th>\n",
       "      <td>Артём Здунов арась вятикс Мордовиять экономиче...</td>\n",
       "      <td>3 мартста Мордовиянь Оцюнясь Артём Здунов ётаф...</td>\n",
       "      <td>article_02228.json</td>\n",
       "      <td>4-03-2022</td>\n",
       "      <td>https://www.e-mordovia.ru/mkh/for-smi/all-news...</td>\n",
       "    </tr>\n",
       "    <tr>\n",
       "      <th>3781</th>\n",
       "      <td>Мордовиянь Оцюнясь васетькшнесь Universal Univ...</td>\n",
       "      <td>14 мартста Мордовиянь Оцюнясь Артём Здунов вас...</td>\n",
       "      <td>article_01273.json</td>\n",
       "      <td>15-03-2023</td>\n",
       "      <td>https://www.e-mordovia.ru/mkh/for-smi/all-news...</td>\n",
       "    </tr>\n",
       "  </tbody>\n",
       "</table>\n",
       "</div>"
      ],
      "text/plain": [
       "                                                   name  \\\n",
       "1924  Мордовияса ётась «Единая Россия» партиянь перв...   \n",
       "3091  Мордовиянь Оцюнясь корхнесь Эрьзянь лемса музе...   \n",
       "2379  Республикань Правительстваса ванфтольхть васен...   \n",
       "2088  Артём Здунов крхкаста содафтсь Технопарконь ст...   \n",
       "3191  Республикань Кудса корхтафоль Мордовияса школь...   \n",
       "1024  Владимир Волково примась участия «Территория б...   \n",
       "65    Саранскяйть кучкаса аноклави панжемс идень од сад   \n",
       "4558  Артём Здунов Москуса мольфтсь корхтама веронь ...   \n",
       "2660  Артём Здунов арась вятикс Мордовиять экономиче...   \n",
       "3781  Мордовиянь Оцюнясь васетькшнесь Universal Univ...   \n",
       "\n",
       "                                                   text                  fn  \\\n",
       "1924  7 мартста «Единая Россия» Генеральнай советонь...  article_00390.json   \n",
       "3091  7 апрельста Мордовиянь Оцюнясь Артём Здунов ёт...  article_02141.json   \n",
       "2379  16 январьста ульсь Мордовия  Республикань Прав...  article_04523.json   \n",
       "2088  Мордовиянь Оцюнять аф лама пингс тевонзон тиен...  article_03162.json   \n",
       "3191  Артём Здунов ётафтсь рабочай васедема «Просвещ...  article_02024.json   \n",
       "1024  Мордовиянь Оцюнять аф оцю пингс тевонзон тиенд...  article_04290.json   \n",
       "65    Мордовиять столицаса «Демография» национальнай...  article_03542.json   \n",
       "4558  Мордовиянь Оцюнясь Артём Здунов 5 июньцта ётаф...  article_01045.json   \n",
       "2660  3 мартста Мордовиянь Оцюнясь Артём Здунов ётаф...  article_02228.json   \n",
       "3781  14 мартста Мордовиянь Оцюнясь Артём Здунов вас...  article_01273.json   \n",
       "\n",
       "            date                                               link  \n",
       "1924   7-03-2024  https://www.e-mordovia.ru/mkh/for-smi/all-news...  \n",
       "3091   8-04-2022  https://www.e-mordovia.ru/mkh/for-smi/all-news...  \n",
       "2379  17-01-2017  https://www.e-mordovia.ru/mkh/for-smi/all-news...  \n",
       "2088  17-12-2020  https://www.e-mordovia.ru/mkh/for-smi/all-news...  \n",
       "3191  30-05-2022  https://www.e-mordovia.ru/mkh/for-smi/all-news...  \n",
       "1024   7-09-2017  https://www.e-mordovia.ru/mkh/for-smi/all-news...  \n",
       "65    20-12-2019  https://www.e-mordovia.ru/mkh/for-smi/all-news...  \n",
       "4558   6-06-2023  https://www.e-mordovia.ru/mkh/for-smi/all-news...  \n",
       "2660   4-03-2022  https://www.e-mordovia.ru/mkh/for-smi/all-news...  \n",
       "3781  15-03-2023  https://www.e-mordovia.ru/mkh/for-smi/all-news...  "
      ]
     },
     "execution_count": 5,
     "metadata": {},
     "output_type": "execute_result"
    }
   ],
   "source": [
    "mdf_names_df.sample(10)"
   ]
  },
  {
   "cell_type": "code",
   "execution_count": 6,
   "id": "f81eac40-cf52-486b-ae8f-aebec333e003",
   "metadata": {
    "id": "f81eac40-cf52-486b-ae8f-aebec333e003"
   },
   "outputs": [],
   "source": [
    "mdf_names_df.to_csv('results/mdf_names_df.tsv', sep='\\t', index=False)"
   ]
  },
  {
   "cell_type": "code",
   "execution_count": 7,
   "id": "bdc5630c",
   "metadata": {},
   "outputs": [],
   "source": [
    "myv_names = []\n",
    "\n",
    "for fn in os.listdir(MYV_DIR):\n",
    "    if not fn.endswith('.json'):\n",
    "        continue\n",
    "\n",
    "    with open(MYV_DIR + fn, 'r') as f:\n",
    "        data = json.load(f)\n",
    "\n",
    "    # del first line with news' date\n",
    "    text = '\\n'.join(data['text'].split('\\n')[1:])\n",
    "    myv_names.append({'name': data['name'], 'text': text, 'fn': fn, 'date': data['date'], 'link': data['link']})"
   ]
  },
  {
   "cell_type": "code",
   "execution_count": 8,
   "id": "be0ee6d5",
   "metadata": {},
   "outputs": [
    {
     "data": {
      "text/plain": [
       "4849"
      ]
     },
     "execution_count": 8,
     "metadata": {},
     "output_type": "execute_result"
    }
   ],
   "source": [
    "len(os.listdir(MYV_DIR))"
   ]
  },
  {
   "cell_type": "code",
   "execution_count": 9,
   "id": "2428ba54",
   "metadata": {},
   "outputs": [],
   "source": [
    "myv_names_df = pd.DataFrame(myv_names)"
   ]
  },
  {
   "cell_type": "code",
   "execution_count": 10,
   "id": "bff1a69e",
   "metadata": {},
   "outputs": [
    {
     "data": {
      "text/html": [
       "<div>\n",
       "<style scoped>\n",
       "    .dataframe tbody tr th:only-of-type {\n",
       "        vertical-align: middle;\n",
       "    }\n",
       "\n",
       "    .dataframe tbody tr th {\n",
       "        vertical-align: top;\n",
       "    }\n",
       "\n",
       "    .dataframe thead th {\n",
       "        text-align: right;\n",
       "    }\n",
       "</style>\n",
       "<table border=\"1\" class=\"dataframe\">\n",
       "  <thead>\n",
       "    <tr style=\"text-align: right;\">\n",
       "      <th></th>\n",
       "      <th>name</th>\n",
       "      <th>text</th>\n",
       "      <th>fn</th>\n",
       "      <th>date</th>\n",
       "      <th>link</th>\n",
       "    </tr>\n",
       "  </thead>\n",
       "  <tbody>\n",
       "    <tr>\n",
       "      <th>252</th>\n",
       "      <td>ПМЮФ-2023: Мордовиянь Прявтось евтнесь рецидив...</td>\n",
       "      <td>Мордовиянь Прявтось Артём Здунов панжиковонь 1...</td>\n",
       "      <td>article_01142.json</td>\n",
       "      <td>12-05-2023</td>\n",
       "      <td>https://www.e-mordovia.ru/erz/for-smi/all-news...</td>\n",
       "    </tr>\n",
       "    <tr>\n",
       "      <th>2796</th>\n",
       "      <td>Артём Здунов: «Иенть прядовомс тейтяно «Электр...</td>\n",
       "      <td>Медьковонь 23-це чистэ Мордовиянь Прявтонь тев...</td>\n",
       "      <td>article_02785.json</td>\n",
       "      <td>25-07-2021</td>\n",
       "      <td>https://www.e-mordovia.ru/erz/for-smi/all-news...</td>\n",
       "    </tr>\n",
       "    <tr>\n",
       "      <th>2267</th>\n",
       "      <td>Мордовиянь бизнесэсь максы вадря питне республ...</td>\n",
       "      <td>Россиянь Минэкономразвитиясь ды «Диалог Регион...</td>\n",
       "      <td>article_00975.json</td>\n",
       "      <td>8-07-2023</td>\n",
       "      <td>https://www.e-mordovia.ru/erz/for-smi/all-news...</td>\n",
       "    </tr>\n",
       "    <tr>\n",
       "      <th>2180</th>\n",
       "      <td>«Единой Россиясь» ве мельсэ кирдизе Владимир П...</td>\n",
       "      <td>Московсо ВДНХ-со «Россия» Раськеютконь выставк...</td>\n",
       "      <td>article_00575.json</td>\n",
       "      <td>17-12-2023</td>\n",
       "      <td>https://www.e-mordovia.ru/erz/for-smi/all-news...</td>\n",
       "    </tr>\n",
       "    <tr>\n",
       "      <th>822</th>\n",
       "      <td>Автомобилень ды ошонь пассажирэнь транспортонь...</td>\n",
       "      <td>Автомобилень ды ошонь пассажирэнь транспортонь...</td>\n",
       "      <td>article_00699.json</td>\n",
       "      <td>29-10-2023</td>\n",
       "      <td>https://www.e-mordovia.ru/erz/for-smi/all-news...</td>\n",
       "    </tr>\n",
       "  </tbody>\n",
       "</table>\n",
       "</div>"
      ],
      "text/plain": [
       "                                                   name  \\\n",
       "252   ПМЮФ-2023: Мордовиянь Прявтось евтнесь рецидив...   \n",
       "2796  Артём Здунов: «Иенть прядовомс тейтяно «Электр...   \n",
       "2267  Мордовиянь бизнесэсь максы вадря питне республ...   \n",
       "2180  «Единой Россиясь» ве мельсэ кирдизе Владимир П...   \n",
       "822   Автомобилень ды ошонь пассажирэнь транспортонь...   \n",
       "\n",
       "                                                   text                  fn  \\\n",
       "252   Мордовиянь Прявтось Артём Здунов панжиковонь 1...  article_01142.json   \n",
       "2796  Медьковонь 23-це чистэ Мордовиянь Прявтонь тев...  article_02785.json   \n",
       "2267  Россиянь Минэкономразвитиясь ды «Диалог Регион...  article_00975.json   \n",
       "2180  Московсо ВДНХ-со «Россия» Раськеютконь выставк...  article_00575.json   \n",
       "822   Автомобилень ды ошонь пассажирэнь транспортонь...  article_00699.json   \n",
       "\n",
       "            date                                               link  \n",
       "252   12-05-2023  https://www.e-mordovia.ru/erz/for-smi/all-news...  \n",
       "2796  25-07-2021  https://www.e-mordovia.ru/erz/for-smi/all-news...  \n",
       "2267   8-07-2023  https://www.e-mordovia.ru/erz/for-smi/all-news...  \n",
       "2180  17-12-2023  https://www.e-mordovia.ru/erz/for-smi/all-news...  \n",
       "822   29-10-2023  https://www.e-mordovia.ru/erz/for-smi/all-news...  "
      ]
     },
     "execution_count": 10,
     "metadata": {},
     "output_type": "execute_result"
    }
   ],
   "source": [
    "myv_names_df.sample(5)"
   ]
  },
  {
   "cell_type": "code",
   "execution_count": 11,
   "id": "6475a397",
   "metadata": {},
   "outputs": [],
   "source": [
    "myv_names_df.to_csv('results/myv_names_df.tsv', sep='\\t', index=False)"
   ]
  },
  {
   "cell_type": "code",
   "execution_count": 12,
   "id": "417278e5-2272-4043-b15c-9a1be78cb7e0",
   "metadata": {
    "id": "417278e5-2272-4043-b15c-9a1be78cb7e0"
   },
   "outputs": [],
   "source": [
    "ru_names = []\n",
    "\n",
    "for fn in os.listdir(RU_DIR):\n",
    "    if not fn.endswith('.json'):\n",
    "        continue\n",
    "\n",
    "    with open(RU_DIR + fn, 'r') as f:\n",
    "        data = json.load(f)\n",
    "\n",
    "    # del first line with news' date\n",
    "    text = '\\n'.join(data['text'].split('\\n')[1:])\n",
    "    ru_names.append({'name': data['name'], 'text': text, 'fn': fn, 'date': data['date'], 'link': data['link']})"
   ]
  },
  {
   "cell_type": "code",
   "execution_count": 13,
   "id": "d796e4c9-7c19-4cbd-bb42-e51c3b91eb55",
   "metadata": {
    "id": "d796e4c9-7c19-4cbd-bb42-e51c3b91eb55"
   },
   "outputs": [],
   "source": [
    "ru_names_df = pd.DataFrame(ru_names)"
   ]
  },
  {
   "cell_type": "code",
   "execution_count": 14,
   "id": "07caae6a-6949-43a4-a3dc-06e4bdb65121",
   "metadata": {
    "id": "07caae6a-6949-43a4-a3dc-06e4bdb65121",
    "outputId": "5f7d12a6-3010-43c4-da42-e18636e630ed"
   },
   "outputs": [
    {
     "data": {
      "text/html": [
       "<div>\n",
       "<style scoped>\n",
       "    .dataframe tbody tr th:only-of-type {\n",
       "        vertical-align: middle;\n",
       "    }\n",
       "\n",
       "    .dataframe tbody tr th {\n",
       "        vertical-align: top;\n",
       "    }\n",
       "\n",
       "    .dataframe thead th {\n",
       "        text-align: right;\n",
       "    }\n",
       "</style>\n",
       "<table border=\"1\" class=\"dataframe\">\n",
       "  <thead>\n",
       "    <tr style=\"text-align: right;\">\n",
       "      <th></th>\n",
       "      <th>name</th>\n",
       "      <th>text</th>\n",
       "      <th>fn</th>\n",
       "      <th>date</th>\n",
       "      <th>link</th>\n",
       "    </tr>\n",
       "  </thead>\n",
       "  <tbody>\n",
       "    <tr>\n",
       "      <th>14791</th>\n",
       "      <td>﻿В николаевской школе прошел открытый урок в р...</td>\n",
       "      <td>25 апреля в николаевской школе прошел открытый...</td>\n",
       "      <td>article_01480.json</td>\n",
       "      <td>25-04-2024</td>\n",
       "      <td>https://www.e-mordovia.ru/for-smi/all-news/v-n...</td>\n",
       "    </tr>\n",
       "    <tr>\n",
       "      <th>1598</th>\n",
       "      <td>«Газпром газораспределение Саранск»  построил ...</td>\n",
       "      <td>АО «Газпром газораспределение Саранск» заверши...</td>\n",
       "      <td>article_18178.json</td>\n",
       "      <td>5-08-2016</td>\n",
       "      <td>https://www.e-mordovia.ru/pravitelstvo-rm/novo...</td>\n",
       "    </tr>\n",
       "    <tr>\n",
       "      <th>14506</th>\n",
       "      <td>«Тест на ВИЧ: Экспедиция 2019». Всероссийская ...</td>\n",
       "      <td>В Республике Мордовия пройдет Всероссийская ак...</td>\n",
       "      <td>article_15601.json</td>\n",
       "      <td>18-10-2019</td>\n",
       "      <td>https://www.e-mordovia.ru/for-smi/all-news/tes...</td>\n",
       "    </tr>\n",
       "    <tr>\n",
       "      <th>18084</th>\n",
       "      <td>В Мордовии стартовал конкурс-фестиваль «ПапаФест»</td>\n",
       "      <td>В Мордовии стартовал конкурс-фестиваль «ПапаФе...</td>\n",
       "      <td>article_03701.json</td>\n",
       "      <td>23-08-2023</td>\n",
       "      <td>https://www.e-mordovia.ru/for-smi/all-news/v-m...</td>\n",
       "    </tr>\n",
       "    <tr>\n",
       "      <th>10283</th>\n",
       "      <td>Владимир Волков раскритиковал подрядчиков стро...</td>\n",
       "      <td>5 сентября Глава Мордовии  Владимир Волков про...</td>\n",
       "      <td>article_15797.json</td>\n",
       "      <td>6-09-2019</td>\n",
       "      <td>https://www.e-mordovia.ru/glava-rm/novosti/vla...</td>\n",
       "    </tr>\n",
       "  </tbody>\n",
       "</table>\n",
       "</div>"
      ],
      "text/plain": [
       "                                                    name  \\\n",
       "14791  ﻿В николаевской школе прошел открытый урок в р...   \n",
       "1598   «Газпром газораспределение Саранск»  построил ...   \n",
       "14506  «Тест на ВИЧ: Экспедиция 2019». Всероссийская ...   \n",
       "18084  В Мордовии стартовал конкурс-фестиваль «ПапаФест»   \n",
       "10283  Владимир Волков раскритиковал подрядчиков стро...   \n",
       "\n",
       "                                                    text                  fn  \\\n",
       "14791  25 апреля в николаевской школе прошел открытый...  article_01480.json   \n",
       "1598   АО «Газпром газораспределение Саранск» заверши...  article_18178.json   \n",
       "14506  В Республике Мордовия пройдет Всероссийская ак...  article_15601.json   \n",
       "18084  В Мордовии стартовал конкурс-фестиваль «ПапаФе...  article_03701.json   \n",
       "10283  5 сентября Глава Мордовии  Владимир Волков про...  article_15797.json   \n",
       "\n",
       "             date                                               link  \n",
       "14791  25-04-2024  https://www.e-mordovia.ru/for-smi/all-news/v-n...  \n",
       "1598    5-08-2016  https://www.e-mordovia.ru/pravitelstvo-rm/novo...  \n",
       "14506  18-10-2019  https://www.e-mordovia.ru/for-smi/all-news/tes...  \n",
       "18084  23-08-2023  https://www.e-mordovia.ru/for-smi/all-news/v-m...  \n",
       "10283   6-09-2019  https://www.e-mordovia.ru/glava-rm/novosti/vla...  "
      ]
     },
     "execution_count": 14,
     "metadata": {},
     "output_type": "execute_result"
    }
   ],
   "source": [
    "ru_names_df.sample(5)"
   ]
  },
  {
   "cell_type": "code",
   "execution_count": 15,
   "id": "d72538ae-5738-487f-b126-bdfa163006f9",
   "metadata": {
    "id": "d72538ae-5738-487f-b126-bdfa163006f9"
   },
   "outputs": [],
   "source": [
    "ru_names_df.to_csv('results/ru_names_df.tsv', sep='\\t', index=False)"
   ]
  },
  {
   "cell_type": "code",
   "execution_count": null,
   "id": "10b1e12e",
   "metadata": {},
   "outputs": [],
   "source": []
  }
 ],
 "metadata": {
  "accelerator": "GPU",
  "colab": {
   "collapsed_sections": [
    "6f37db23-4142-4767-9a72-8db1276cef50"
   ],
   "gpuType": "T4",
   "provenance": []
  },
  "kernelspec": {
   "display_name": "Python 3",
   "language": "python",
   "name": "python3"
  },
  "language_info": {
   "codemirror_mode": {
    "name": "ipython",
    "version": 3
   },
   "file_extension": ".py",
   "mimetype": "text/x-python",
   "name": "python",
   "nbconvert_exporter": "python",
   "pygments_lexer": "ipython3",
   "version": "3.11.9"
  }
 },
 "nbformat": 4,
 "nbformat_minor": 5
}
